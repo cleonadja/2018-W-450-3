{
 "cells": [
  {
   "cell_type": "code",
   "execution_count": 1,
   "metadata": {},
   "outputs": [
    {
     "name": "stdout",
     "output_type": "stream",
     "text": [
      "Collecting pymongo\n",
      "  Downloading pymongo-3.6.0-cp36-cp36m-manylinux1_x86_64.whl (378kB)\n",
      "\u001b[K    100% |████████████████████████████████| 378kB 61kB/s eta 0:00:011.5MB/s eta 0:00:01    94% |██████████████████████████████▎ | 358kB 1.2MB/s eta 0:00:01\n",
      "\u001b[?25hInstalling collected packages: pymongo\n",
      "Successfully installed pymongo-3.6.0\n"
     ]
    }
   ],
   "source": [
    "!pip install pymongo"
   ]
  },
  {
   "cell_type": "code",
   "execution_count": 2,
   "metadata": {},
   "outputs": [],
   "source": [
    "from pymongo import MongoClient"
   ]
  },
  {
   "cell_type": "code",
   "execution_count": 3,
   "metadata": {},
   "outputs": [],
   "source": [
    "mongo_client = MongoClient('34.209.155.42', 27016)\n",
    "database_reference = mongo_client.twitter\n",
    "collection_reference = database_reference.tweets"
   ]
  },
  {
   "cell_type": "code",
   "execution_count": 4,
   "metadata": {},
   "outputs": [
    {
     "data": {
      "text/plain": [
       "2105736"
      ]
     },
     "execution_count": 4,
     "metadata": {},
     "output_type": "execute_result"
    }
   ],
   "source": [
    "collection_reference.count()"
   ]
  },
  {
   "cell_type": "code",
   "execution_count": 5,
   "metadata": {},
   "outputs": [],
   "source": [
    "cursor = collection_reference.find()"
   ]
  },
  {
   "cell_type": "code",
   "execution_count": 6,
   "metadata": {},
   "outputs": [
    {
     "data": {
      "text/plain": [
       "{'_id': ObjectId('5a4d5678bfe2f9001587a12e'),\n",
       " 'contributors': None,\n",
       " 'coordinates': None,\n",
       " 'created_at': 'Wed Jan 03 22:16:02 +0000 2018',\n",
       " 'entities': {'hashtags': [], 'symbols': [], 'urls': [], 'user_mentions': []},\n",
       " 'favorite_count': 0,\n",
       " 'favorited': False,\n",
       " 'filter_level': 'low',\n",
       " 'geo': None,\n",
       " 'id': 948679371505655808,\n",
       " 'id_str': '948679371505655808',\n",
       " 'in_reply_to_screen_name': None,\n",
       " 'in_reply_to_status_id': None,\n",
       " 'in_reply_to_status_id_str': None,\n",
       " 'in_reply_to_user_id': None,\n",
       " 'in_reply_to_user_id_str': None,\n",
       " 'is_quote_status': False,\n",
       " 'lang': 'tl',\n",
       " 'place': {'attributes': {},\n",
       "  'bounding_box': {'coordinates': [[[-118.668404, 33.704538],\n",
       "     [-118.668404, 34.337041],\n",
       "     [-118.155409, 34.337041],\n",
       "     [-118.155409, 33.704538]]],\n",
       "   'type': 'Polygon'},\n",
       "  'country': 'United States',\n",
       "  'country_code': 'US',\n",
       "  'full_name': 'Los Angeles, CA',\n",
       "  'id': '3b77caf94bfc81fe',\n",
       "  'name': 'Los Angeles',\n",
       "  'place_type': 'city',\n",
       "  'url': 'https://api.twitter.com/1.1/geo/id/3b77caf94bfc81fe.json'},\n",
       " 'quote_count': 0,\n",
       " 'reply_count': 0,\n",
       " 'retweet_count': 0,\n",
       " 'retweeted': False,\n",
       " 'source': '<a href=\"http://twitter.com/download/iphone\" rel=\"nofollow\">Twitter for iPhone</a>',\n",
       " 'text': 'Putangina ang boring na ng buhay ko dito jusko',\n",
       " 'timestamp_ms': '1515017762434',\n",
       " 'truncated': False,\n",
       " 'user': {'contributors_enabled': False,\n",
       "  'created_at': 'Fri Mar 02 13:22:22 +0000 2012',\n",
       "  'default_profile': False,\n",
       "  'default_profile_image': False,\n",
       "  'description': None,\n",
       "  'favourites_count': 4830,\n",
       "  'follow_request_sent': None,\n",
       "  'followers_count': 773,\n",
       "  'following': None,\n",
       "  'friends_count': 100,\n",
       "  'geo_enabled': True,\n",
       "  'id': 511923569,\n",
       "  'id_str': '511923569',\n",
       "  'is_translator': False,\n",
       "  'lang': 'en',\n",
       "  'listed_count': 1,\n",
       "  'location': 'Los Angeles, CA',\n",
       "  'name': 'Juan Miguel',\n",
       "  'notifications': None,\n",
       "  'profile_background_color': '000000',\n",
       "  'profile_background_image_url': 'http://pbs.twimg.com/profile_background_images/531342961343086592/4a7yCk4x.jpeg',\n",
       "  'profile_background_image_url_https': 'https://pbs.twimg.com/profile_background_images/531342961343086592/4a7yCk4x.jpeg',\n",
       "  'profile_background_tile': False,\n",
       "  'profile_banner_url': 'https://pbs.twimg.com/profile_banners/511923569/1514535792',\n",
       "  'profile_image_url': 'http://pbs.twimg.com/profile_images/946844999412473856/07sICdIq_normal.jpg',\n",
       "  'profile_image_url_https': 'https://pbs.twimg.com/profile_images/946844999412473856/07sICdIq_normal.jpg',\n",
       "  'profile_link_color': '000000',\n",
       "  'profile_sidebar_border_color': 'FFFFFF',\n",
       "  'profile_sidebar_fill_color': 'EFEFEF',\n",
       "  'profile_text_color': '333333',\n",
       "  'profile_use_background_image': True,\n",
       "  'protected': False,\n",
       "  'screen_name': 'euanbedural_',\n",
       "  'statuses_count': 5142,\n",
       "  'time_zone': 'Hong Kong',\n",
       "  'translator_type': 'none',\n",
       "  'url': None,\n",
       "  'utc_offset': 28800,\n",
       "  'verified': False}}"
      ]
     },
     "execution_count": 6,
     "metadata": {},
     "output_type": "execute_result"
    }
   ],
   "source": [
    "next(cursor)"
   ]
  },
  {
   "cell_type": "code",
   "execution_count": 7,
   "metadata": {
    "scrolled": true
   },
   "outputs": [
    {
     "data": {
      "text/plain": [
       "{'_id': ObjectId('5a4d56d9bfe2f9001587a12f'),\n",
       " 'contributors': None,\n",
       " 'coordinates': None,\n",
       " 'created_at': 'Wed Jan 03 22:16:04 +0000 2018',\n",
       " 'display_text_range': [14, 25],\n",
       " 'entities': {'hashtags': [],\n",
       "  'symbols': [],\n",
       "  'urls': [],\n",
       "  'user_mentions': [{'id': 828346564062044160,\n",
       "    'id_str': '828346564062044160',\n",
       "    'indices': [0, 13],\n",
       "    'name': 'alicia 🐻',\n",
       "    'screen_name': 'aliciabearrr'}]},\n",
       " 'favorite_count': 0,\n",
       " 'favorited': False,\n",
       " 'filter_level': 'low',\n",
       " 'geo': None,\n",
       " 'id': 948679379248283648,\n",
       " 'id_str': '948679379248283648',\n",
       " 'in_reply_to_screen_name': 'aliciabearrr',\n",
       " 'in_reply_to_status_id': 948634097961676800,\n",
       " 'in_reply_to_status_id_str': '948634097961676800',\n",
       " 'in_reply_to_user_id': 828346564062044160,\n",
       " 'in_reply_to_user_id_str': '828346564062044160',\n",
       " 'is_quote_status': False,\n",
       " 'lang': 'en',\n",
       " 'place': {'attributes': {},\n",
       "  'bounding_box': {'coordinates': [[[-124.482003, 32.528832],\n",
       "     [-124.482003, 42.009519],\n",
       "     [-114.131212, 42.009519],\n",
       "     [-114.131212, 32.528832]]],\n",
       "   'type': 'Polygon'},\n",
       "  'country': 'United States',\n",
       "  'country_code': 'US',\n",
       "  'full_name': 'California, USA',\n",
       "  'id': 'fbd6d2f5a4e4a15e',\n",
       "  'name': 'California',\n",
       "  'place_type': 'admin',\n",
       "  'url': 'https://api.twitter.com/1.1/geo/id/fbd6d2f5a4e4a15e.json'},\n",
       " 'quote_count': 0,\n",
       " 'reply_count': 0,\n",
       " 'retweet_count': 0,\n",
       " 'retweeted': False,\n",
       " 'source': '<a href=\"http://twitter.com/download/iphone\" rel=\"nofollow\">Twitter for iPhone</a>',\n",
       " 'text': '@aliciabearrr Thank you 😋',\n",
       " 'timestamp_ms': '1515017764280',\n",
       " 'truncated': False,\n",
       " 'user': {'contributors_enabled': False,\n",
       "  'created_at': 'Wed Sep 30 22:49:56 +0000 2015',\n",
       "  'default_profile': True,\n",
       "  'default_profile_image': False,\n",
       "  'description': 'momma to Leah 👩\\u200d👧wife to Fernando 💍',\n",
       "  'favourites_count': 2115,\n",
       "  'follow_request_sent': None,\n",
       "  'followers_count': 308,\n",
       "  'following': None,\n",
       "  'friends_count': 250,\n",
       "  'geo_enabled': True,\n",
       "  'id': 3741582613,\n",
       "  'id_str': '3741582613',\n",
       "  'is_translator': False,\n",
       "  'lang': 'en',\n",
       "  'listed_count': 0,\n",
       "  'location': 'California',\n",
       "  'name': 'Maria Belen Serna',\n",
       "  'notifications': None,\n",
       "  'profile_background_color': 'C0DEED',\n",
       "  'profile_background_image_url': 'http://abs.twimg.com/images/themes/theme1/bg.png',\n",
       "  'profile_background_image_url_https': 'https://abs.twimg.com/images/themes/theme1/bg.png',\n",
       "  'profile_background_tile': False,\n",
       "  'profile_banner_url': 'https://pbs.twimg.com/profile_banners/3741582613/1514716470',\n",
       "  'profile_image_url': 'http://pbs.twimg.com/profile_images/947415653035646977/bH3yLoc2_normal.jpg',\n",
       "  'profile_image_url_https': 'https://pbs.twimg.com/profile_images/947415653035646977/bH3yLoc2_normal.jpg',\n",
       "  'profile_link_color': '1DA1F2',\n",
       "  'profile_sidebar_border_color': 'C0DEED',\n",
       "  'profile_sidebar_fill_color': 'DDEEF6',\n",
       "  'profile_text_color': '333333',\n",
       "  'profile_use_background_image': True,\n",
       "  'protected': False,\n",
       "  'screen_name': '_ohhbelen',\n",
       "  'statuses_count': 8926,\n",
       "  'time_zone': None,\n",
       "  'translator_type': 'none',\n",
       "  'url': None,\n",
       "  'utc_offset': None,\n",
       "  'verified': False}}"
      ]
     },
     "execution_count": 7,
     "metadata": {},
     "output_type": "execute_result"
    }
   ],
   "source": [
    "next(cursor)"
   ]
  },
  {
   "cell_type": "code",
   "execution_count": 8,
   "metadata": {},
   "outputs": [
    {
     "data": {
      "text/plain": [
       "'It’s okay to invest in YOUrself. \\nI beat myself up whenever i don’t cross out everything on my… https://t.co/9kQpNWp4F9'"
      ]
     },
     "execution_count": 8,
     "metadata": {},
     "output_type": "execute_result"
    }
   ],
   "source": [
    "next(cursor)['text']"
   ]
  },
  {
   "cell_type": "code",
   "execution_count": 9,
   "metadata": {},
   "outputs": [
    {
     "data": {
      "text/plain": [
       "dict"
      ]
     },
     "execution_count": 9,
     "metadata": {},
     "output_type": "execute_result"
    }
   ],
   "source": [
    "type(next(cursor))"
   ]
  },
  {
   "cell_type": "code",
   "execution_count": 10,
   "metadata": {},
   "outputs": [
    {
     "data": {
      "text/plain": [
       "'Reading “Rest In Power” by Trayvon Martins parents.....can’t stop tearing up imagining what it would be like to go… https://t.co/PX1VJnJv4H'"
      ]
     },
     "execution_count": 10,
     "metadata": {},
     "output_type": "execute_result"
    }
   ],
   "source": [
    "next(cursor)['text']"
   ]
  },
  {
   "cell_type": "code",
   "execution_count": 11,
   "metadata": {},
   "outputs": [],
   "source": [
    "match = {\"$match\" : {\"retweet_count\" : 0}}\n",
    "count = {\"$count\" : \"id\"}\n",
    "cursor = collection_reference.aggregate([\n",
    "    match,\n",
    "    count\n",
    "])"
   ]
  },
  {
   "cell_type": "code",
   "execution_count": 18,
   "metadata": {},
   "outputs": [
    {
     "data": {
      "text/plain": [
       "[{'_id': {'day': 8, 'month': 2, 'year': 2018}, 'tweets': 54619},\n",
       " {'_id': {'day': 7, 'month': 2, 'year': 2018}, 'tweets': 52409},\n",
       " {'_id': {'day': 3, 'month': 2, 'year': 2018}, 'tweets': 49966},\n",
       " {'_id': {'day': 1, 'month': 2, 'year': 2018}, 'tweets': 52571},\n",
       " {'_id': {'day': 31, 'month': 1, 'year': 2018}, 'tweets': 57180},\n",
       " {'_id': {'day': 29, 'month': 1, 'year': 2018}, 'tweets': 54141},\n",
       " {'_id': {'day': 5, 'month': 2, 'year': 2018}, 'tweets': 62981},\n",
       " {'_id': {'day': 28, 'month': 1, 'year': 2018}, 'tweets': 46801},\n",
       " {'_id': {'day': 27, 'month': 1, 'year': 2018}, 'tweets': 46334},\n",
       " {'_id': {'day': 6, 'month': 2, 'year': 2018}, 'tweets': 50339},\n",
       " {'_id': {'day': 24, 'month': 1, 'year': 2018}, 'tweets': 51789},\n",
       " {'_id': {'day': 11, 'month': 1, 'year': 2018}, 'tweets': 50082},\n",
       " {'_id': {'day': 5, 'month': 1, 'year': 2018}, 'tweets': 71745},\n",
       " {'_id': {'day': 9, 'month': 1, 'year': 2018}, 'tweets': 99654},\n",
       " {'_id': {'day': 4, 'month': 1, 'year': 2018}, 'tweets': 13583},\n",
       " {'_id': {'day': 7, 'month': 1, 'year': 2018}, 'tweets': 102854},\n",
       " {'_id': {'day': 30, 'month': 1, 'year': 2018}, 'tweets': 52556},\n",
       " {'_id': {'day': 6, 'month': 1, 'year': 2018}, 'tweets': 104486},\n",
       " {'_id': {'day': 17, 'month': 1, 'year': 2018}, 'tweets': 50677},\n",
       " {'_id': {'day': 26, 'month': 1, 'year': 2018}, 'tweets': 51595},\n",
       " {'_id': {'day': 10, 'month': 1, 'year': 2018}, 'tweets': 49456},\n",
       " {'_id': {'day': 2, 'month': 2, 'year': 2018}, 'tweets': 51156},\n",
       " {'_id': {'day': 25, 'month': 1, 'year': 2018}, 'tweets': 51621},\n",
       " {'_id': {'day': 3, 'month': 1, 'year': 2018}, 'tweets': 1752},\n",
       " {'_id': {'day': 4, 'month': 2, 'year': 2018}, 'tweets': 52438},\n",
       " {'_id': {'day': 19, 'month': 1, 'year': 2018}, 'tweets': 52874},\n",
       " {'_id': {'day': 21, 'month': 1, 'year': 2018}, 'tweets': 52657},\n",
       " {'_id': {'day': None, 'month': None, 'year': None}, 'tweets': 8},\n",
       " {'_id': {'day': 8, 'month': 1, 'year': 2018}, 'tweets': 114761},\n",
       " {'_id': {'day': 12, 'month': 1, 'year': 2018}, 'tweets': 54666},\n",
       " {'_id': {'day': 13, 'month': 1, 'year': 2018}, 'tweets': 50041},\n",
       " {'_id': {'day': 9, 'month': 2, 'year': 2018}, 'tweets': 39381},\n",
       " {'_id': {'day': 14, 'month': 1, 'year': 2018}, 'tweets': 50275},\n",
       " {'_id': {'day': 15, 'month': 1, 'year': 2018}, 'tweets': 52087},\n",
       " {'_id': {'day': 16, 'month': 1, 'year': 2018}, 'tweets': 50201},\n",
       " {'_id': {'day': 18, 'month': 1, 'year': 2018}, 'tweets': 50419},\n",
       " {'_id': {'day': 20, 'month': 1, 'year': 2018}, 'tweets': 53429},\n",
       " {'_id': {'day': 22, 'month': 1, 'year': 2018}, 'tweets': 51010},\n",
       " {'_id': {'day': 23, 'month': 1, 'year': 2018}, 'tweets': 51769}]"
      ]
     },
     "execution_count": 18,
     "metadata": {},
     "output_type": "execute_result"
    }
   ],
   "source": [
    "date_from_string = {\"$dateFromString\" : { \"dateString\" : \"$created_at\"}}\n",
    "\n",
    "date_to_id = {\n",
    "    \"$project\": {\n",
    "        \"_id\" : 0,\n",
    "        \"year\" : {\"$year\": {\"date\" : date_from_string}},\n",
    "        \"month\" : {\"$month\": {\"date\" : date_from_string}},\n",
    "        \"day\" : {\"$dayOfMonth\": {\"date\" : date_from_string}},\n",
    "    }\n",
    "}\n",
    "\n",
    "group_by_date = {\n",
    "    \"$group\" : {\n",
    "        \"tweets\" : {\"$sum\" : 1},\n",
    "        \"_id\" : {\n",
    "            \"year\" : \"$year\",\n",
    "            \"month\" : \"$month\",\n",
    "            \"day\" : \"$day\"\n",
    "        },\n",
    "    }\n",
    "}\n",
    "\n",
    "list(collection_reference.aggregate([\n",
    "    date_to_id,\n",
    "    group_by_date\n",
    "]))"
   ]
  },
  {
   "cell_type": "code",
   "execution_count": 20,
   "metadata": {},
   "outputs": [],
   "source": [
    "datePipe = {\"$dateFromString\" : { \"dateString\" : \"$created_at\"}}\n",
    "projectPipe = {\"year\" : {\"$year\": {\"date\" : datePipe}},\n",
    "                       \"month\" : {\"$month\": {\"date\" : datePipe}},\n",
    "                       \"day\" : {\"$dayOfMonth\": {\"date\" : datePipe}},\n",
    "                       \"_id\" : 0}\n",
    "groupPipe = {\"_id\" : {\n",
    "                        \"year\" : \"$year\",\n",
    "                        \"month\" : \"$month\", \n",
    "                        \"day\" : \"$day\"},\n",
    "             \"tweets\" : { \n",
    "                         \"$sum\" : 1 }\n",
    "            }\n",
    "dailyTweetsPipe = [\n",
    "        {\"$project\" : projectPipe},\n",
    "        {\"$group\" : groupPipe}\n",
    "] "
   ]
  },
  {
   "cell_type": "code",
   "execution_count": null,
   "metadata": {},
   "outputs": [],
   "source": []
  },
  {
   "cell_type": "code",
   "execution_count": 16,
   "metadata": {},
   "outputs": [
    {
     "name": "stdout",
     "output_type": "stream",
     "text": [
      "[{'$project': {'year': {'$year': {'date': {'$dateFromString': {'dateString': '$created_at'}}}}, 'month': {'$month': {'date': {'$dateFromString': {'dateString': '$created_at'}}}}, 'day': {'$dayOfMonth': {'date': {'$dateFromString': {'dateString': '$created_at'}}}}, '_id': 0}}, {'$group': {'_id': {'year': '$year', 'month': '$month', 'day': '$day'}, 'tweets': {'$sum': 1}}}]\n"
     ]
    }
   ],
   "source": [
    "print (dailyTweetsPipe)"
   ]
  },
  {
   "cell_type": "code",
   "execution_count": 17,
   "metadata": {
    "scrolled": false
   },
   "outputs": [
    {
     "ename": "ModuleNotFoundError",
     "evalue": "No module named 'folium'",
     "output_type": "error",
     "traceback": [
      "\u001b[0;31m---------------------------------------------------------------------------\u001b[0m",
      "\u001b[0;31mModuleNotFoundError\u001b[0m                       Traceback (most recent call last)",
      "\u001b[0;32m<ipython-input-17-b7dd0e726d0b>\u001b[0m in \u001b[0;36m<module>\u001b[0;34m()\u001b[0m\n\u001b[0;32m----> 1\u001b[0;31m \u001b[0;32mimport\u001b[0m \u001b[0mfolium\u001b[0m\u001b[0;34m\u001b[0m\u001b[0m\n\u001b[0m\u001b[1;32m      2\u001b[0m \u001b[0mstarting_loc\u001b[0m \u001b[0;34m=\u001b[0m \u001b[0;34m[\u001b[0m\u001b[0mlat\u001b[0m\u001b[0;34m,\u001b[0m \u001b[0mlong\u001b[0m\u001b[0;34m]\u001b[0m\u001b[0;34m\u001b[0m\u001b[0m\n\u001b[1;32m      3\u001b[0m \u001b[0mla_map\u001b[0m \u001b[0;34m=\u001b[0m \u001b[0mfolium\u001b[0m\u001b[0;34m.\u001b[0m\u001b[0mMap\u001b[0m\u001b[0;34m(\u001b[0m\u001b[0mlocation\u001b[0m\u001b[0;34m=\u001b[0m\u001b[0mstarting_loc\u001b[0m\u001b[0;34m,\u001b[0m \u001b[0mzoom_start\u001b[0m\u001b[0;34m=\u001b[0m\u001b[0;36m13\u001b[0m\u001b[0;34m)\u001b[0m\u001b[0;34m\u001b[0m\u001b[0m\n\u001b[1;32m      4\u001b[0m \u001b[0;32mfor\u001b[0m \u001b[0mloc\u001b[0m \u001b[0;32min\u001b[0m \u001b[0mlist_of_locs\u001b[0m\u001b[0;34m:\u001b[0m\u001b[0;34m\u001b[0m\u001b[0m\n\u001b[1;32m      5\u001b[0m     \u001b[0mfolium\u001b[0m\u001b[0;34m.\u001b[0m\u001b[0mMarker\u001b[0m\u001b[0;34m(\u001b[0m\u001b[0;34m[\u001b[0m\u001b[0mlat\u001b[0m\u001b[0;34m,\u001b[0m \u001b[0mlong\u001b[0m\u001b[0;34m]\u001b[0m\u001b[0;34m)\u001b[0m\u001b[0;34m.\u001b[0m\u001b[0madd_to\u001b[0m\u001b[0;34m(\u001b[0m\u001b[0mla_map\u001b[0m\u001b[0;34m)\u001b[0m\u001b[0;34m\u001b[0m\u001b[0m\n",
      "\u001b[0;31mModuleNotFoundError\u001b[0m: No module named 'folium'"
     ]
    }
   ],
   "source": [
    "import folium\n",
    "starting_loc = [lat, long]\n",
    "la_map = folium.Map(location=starting_loc, zoom_start=13)\n",
    "for loc in list_of_locs:\n",
    "    folium.Marker([lat, long]).add_to(la_map)"
   ]
  },
  {
   "cell_type": "code",
   "execution_count": null,
   "metadata": {},
   "outputs": [],
   "source": []
  }
 ],
 "metadata": {
  "kernelspec": {
   "display_name": "Python 3",
   "language": "python",
   "name": "python3"
  },
  "language_info": {
   "codemirror_mode": {
    "name": "ipython",
    "version": 3
   },
   "file_extension": ".py",
   "mimetype": "text/x-python",
   "name": "python",
   "nbconvert_exporter": "python",
   "pygments_lexer": "ipython3",
   "version": "3.6.3"
  }
 },
 "nbformat": 4,
 "nbformat_minor": 2
}
